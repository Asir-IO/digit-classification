{
 "cells": [
  {
   "cell_type": "markdown",
   "id": "a3c2a964",
   "metadata": {},
   "source": [
    "Model training code"
   ]
  }
 ],
 "metadata": {
  "language_info": {
   "name": "python"
  }
 },
 "nbformat": 4,
 "nbformat_minor": 5
}
